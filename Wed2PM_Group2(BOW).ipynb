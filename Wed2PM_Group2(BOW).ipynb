{
 "cells": [
  {
   "cell_type": "markdown",
   "metadata": {
    "id": "32yCsRUo8H33"
   },
   "source": [
    "# 2024 COMP90042 Project\n",
    "*Make sure you change the file name with your group id.*"
   ]
  },
  {
   "cell_type": "markdown",
   "metadata": {
    "id": "XCybYoGz8YWQ"
   },
   "source": [
    "# Readme\n",
    "*If there is something to be noted for the marker, please mention here.*\n",
    "\n",
    "*If you are planning to implement a program with Object Oriented Programming style, please put those the bottom of this ipynb file*"
   ]
  },
  {
   "cell_type": "markdown",
   "metadata": {
    "id": "6po98qVA8bJD"
   },
   "source": [
    "# 1.DataSet Processing\n",
    "(You can add as many code blocks and text blocks as you need. However, YOU SHOULD NOT MODIFY the section title)"
   ]
  },
  {
   "cell_type": "code",
   "execution_count": 1,
   "metadata": {
    "id": "qvff21Hv8zjk"
   },
   "outputs": [],
   "source": [
    "import json\n",
    "import operator\n",
    "import subprocess\n",
    "import numpy as np\n",
    "from statistics import mean\n",
    "from collections import Counter\n",
    "from sklearn.metrics.pairwise import cosine_similarity\n",
    "from sklearn.feature_extraction.text import CountVectorizer"
   ]
  },
  {
   "cell_type": "markdown",
   "metadata": {
    "id": "1FA2ao2l8hOg"
   },
   "source": [
    "# 2. Model Implementation\n",
    "(You can add as many code blocks and text blocks as you need. However, YOU SHOULD NOT MODIFY the section title)"
   ]
  },
  {
   "cell_type": "code",
   "execution_count": 2,
   "metadata": {
    "id": "QIEqDDT78q39"
   },
   "outputs": [],
   "source": [
    "with open('data/train-claims.json', 'r') as input_file:\n",
    "    train_claim_data = json.load(input_file)\n",
    "\n",
    "# Read in development data (claim)\n",
    "with open('data/dev-claims.json', 'r') as input_file:\n",
    "    dev_claim_data = json.load(input_file)\n",
    "\n",
    "# Read in test data (claim)\n",
    "with open('data/test-claims-unlabelled.json', 'r') as input_file:\n",
    "    test_claim_data = json.load(input_file)\n",
    "\n",
    "# Read in evidence data\n",
    "with open('data/evidence.json', 'r') as input_file:\n",
    "    evi_data = json.load(input_file)\n",
    "    \n",
    "    \n",
    "full_evidence_id = list(evi_data.keys())\n",
    "full_evidence_text  = list(evi_data.values())\n",
    "train_claim_id = list(train_claim_data.keys())\n",
    "train_claim_text  = [ v[\"claim_text\"] for v in train_claim_data.values()]"
   ]
  },
  {
   "cell_type": "code",
   "execution_count": 5,
   "metadata": {
    "id": "6ZVeNYIH9IaL",
    "tags": []
   },
   "outputs": [],
   "source": [
    "# Vectorizer for evidence and claims\n",
    "evidence_bow_vectorizer = CountVectorizer(stop_words=\"english\")\n",
    "claim_bow_vectorizer = CountVectorizer()\n",
    "\n",
    "# Fitting the vectorizers on evidence and claim texts\n",
    "evidence_bow_vectorizer.fit(train_claim_text + full_evidence_text)\n",
    "train_claim_bow = claim_bow_vectorizer.fit_transform(train_claim_text)\n",
    "\n",
    "# Transform full evidence and training claims\n",
    "full_evi_emb_list = evidence_bow_vectorizer.transform(full_evidence_text)\n",
    "train_claim_emb_list = claim_bow_vectorizer.transform(train_claim_text)"
   ]
  },
  {
   "cell_type": "code",
   "execution_count": 8,
   "metadata": {},
   "outputs": [],
   "source": [
    "import numpy as np\n",
    "\n",
    "with open('data/dev-claims.json', 'r') as input_file:\n",
    "    test_claims = json.load(input_file)\n",
    "\n",
    "# Prepare output dictionary\n",
    "output_results = {}\n",
    "\n",
    "# Iterate over each claim\n",
    "for claim_id, claim_value in test_claims.items():\n",
    "    # Vectorize the current claim text for evidence matching\n",
    "    test_claim_vector = evidence_bow_vectorizer.transform([claim_value['claim_text']])\n",
    "    similarities = cosine_similarity(test_claim_vector, full_evi_emb_list)[0]\n",
    "    evidence_ranking = np.argsort(-similarities)[:2]  # Get indices of top 1-10 similarities\n",
    "\n",
    "    # Store top k evidence IDs\n",
    "    selected_evidence_ids = [full_evidence_id[idx] for idx in evidence_ranking]\n",
    "    output_results[claim_id] = {\"evidences\": selected_evidence_ids}\n",
    "\n",
    "    # Vectorize the current claim text for claim label prediction\n",
    "    test_claim_vector = claim_bow_vectorizer.transform([claim_value['claim_text']])\n",
    "    claim_similarities = cosine_similarity(test_claim_vector, train_claim_emb_list)[0]\n",
    "    most_similar_claim_idx = np.argmax(claim_similarities)  # Get index of the most similar claim\n",
    "\n",
    "    # Assign the label from the most similar claim\n",
    "    output_results[claim_id][\"claim_label\"] = train_claim_data[train_claim_id[most_similar_claim_idx]][\"claim_label\"]\n",
    "\n",
    "# Write results to file\n",
    "with open(\"data/dev_predict.json\", \"w\") as outfile:\n",
    "    json.dump(output_results, outfile, indent=4)\n"
   ]
  },
  {
   "cell_type": "markdown",
   "metadata": {
    "id": "EzGuzHPE87Ya"
   },
   "source": [
    "# 3.Testing and Evaluation\n",
    "(You can add as many code blocks and text blocks as you need. However, YOU SHOULD NOT MODIFY the section title)"
   ]
  },
  {
   "cell_type": "code",
   "execution_count": 9,
   "metadata": {},
   "outputs": [
    {
     "name": "stdout",
     "output_type": "stream",
     "text": [
      "Evidence Retrieval F-score (F)    = 0.0743661100803958\n",
      "Claim Classification Accuracy (A) = 0.38961038961038963\n",
      "Harmonic Mean of F and A          = 0.12489343379046812\n",
      "\n"
     ]
    }
   ],
   "source": [
    "# %%cmd\n",
    "# python eval.py --predictions dev-claims-baseline.json --groundtruth dev-claims.json\n",
    "# python eval.py --predictions dev_predict.json --groundtruth dev-claims.json\n",
    "\n",
    "output = subprocess.check_output(\"python eval.py --predictions data/dev_predict.json --groundtruth data/dev-claims.json\", shell=True)\n",
    "\n",
    "print(output.decode(\"utf-8\"))"
   ]
  },
  {
   "cell_type": "markdown",
   "metadata": {
    "id": "mefSOe8eTmGP"
   },
   "source": [
    "## Object Oriented Programming codes here\n",
    "\n",
    "*You can use multiple code snippets. Just add more if needed*"
   ]
  },
  {
   "cell_type": "code",
   "execution_count": null,
   "metadata": {},
   "outputs": [],
   "source": []
  }
 ],
 "metadata": {
  "colab": {
   "provenance": [],
   "toc_visible": true
  },
  "kernelspec": {
   "display_name": "Python 3 (ipykernel)",
   "language": "python",
   "name": "python3"
  },
  "language_info": {
   "codemirror_mode": {
    "name": "ipython",
    "version": 3
   },
   "file_extension": ".py",
   "mimetype": "text/x-python",
   "name": "python",
   "nbconvert_exporter": "python",
   "pygments_lexer": "ipython3",
   "version": "3.11.4"
  }
 },
 "nbformat": 4,
 "nbformat_minor": 4
}
