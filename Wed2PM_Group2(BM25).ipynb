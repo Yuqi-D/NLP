{
 "cells": [
  {
   "cell_type": "markdown",
   "metadata": {
    "id": "32yCsRUo8H33"
   },
   "source": [
    "# 2024 COMP90042 Project\n",
    "*Make sure you change the file name with your group id.*"
   ]
  },
  {
   "cell_type": "markdown",
   "metadata": {
    "id": "XCybYoGz8YWQ"
   },
   "source": [
    "# Readme\n",
    "*If there is something to be noted for the marker, please mention here.*\n",
    "\n",
    "*If you are planning to implement a program with Object Oriented Programming style, please put those the bottom of this ipynb file*"
   ]
  },
  {
   "cell_type": "markdown",
   "metadata": {
    "id": "6po98qVA8bJD"
   },
   "source": [
    "# 1.DataSet Processing\n",
    "(You can add as many code blocks and text blocks as you need. However, YOU SHOULD NOT MODIFY the section title)"
   ]
  },
  {
   "cell_type": "code",
   "execution_count": 1,
   "metadata": {
    "id": "qvff21Hv8zjk"
   },
   "outputs": [],
   "source": [
    "import json\n",
    "import subprocess\n",
    "import numpy as np\n",
    "from statistics import mean\n",
    "from collections import Counter\n",
    "from rank_bm25 import BM25Okapi"
   ]
  },
  {
   "cell_type": "markdown",
   "metadata": {
    "id": "1FA2ao2l8hOg"
   },
   "source": [
    "# 2. Model Implementation\n",
    "(You can add as many code blocks and text blocks as you need. However, YOU SHOULD NOT MODIFY the section title)"
   ]
  },
  {
   "cell_type": "code",
   "execution_count": 2,
   "metadata": {
    "id": "QIEqDDT78q39"
   },
   "outputs": [],
   "source": [
    "# Load the datasets\n",
    "with open('data/train-claims.json', 'r') as input_file:\n",
    "    train_claim_data = json.load(input_file)\n",
    "\n",
    "with open('data/dev-claims.json', 'r') as input_file:\n",
    "    dev_claim_data = json.load(input_file)\n",
    "\n",
    "with open('data/test-claims-unlabelled.json', 'r') as input_file:\n",
    "    test_claim_data = json.load(input_file)\n",
    "\n",
    "with open('data/evidence.json', 'r') as input_file:\n",
    "    evi_data = json.load(input_file)"
   ]
  },
  {
   "cell_type": "code",
   "execution_count": 3,
   "metadata": {
    "id": "6ZVeNYIH9IaL",
    "tags": []
   },
   "outputs": [
    {
     "name": "stdout",
     "output_type": "stream",
     "text": [
      "Prepare data for vectorization\n",
      "Tokenize the text for BM25\n",
      "Initialize BM25\n"
     ]
    }
   ],
   "source": [
    "# Prepare data for vectorization\n",
    "print(\"Prepare data for vectorization\")\n",
    "full_evidence_id = list(evi_data.keys())\n",
    "full_evidence_text = list(evi_data.values())\n",
    "train_claim_id = list(train_claim_data.keys())\n",
    "train_claim_text = [v[\"claim_text\"] for v in train_claim_data.values()]\n",
    "\n",
    "# Tokenize the text for BM25\n",
    "print(\"Tokenize the text for BM25\")\n",
    "tokenized_evidence = [doc.split() for doc in full_evidence_text]\n",
    "tokenized_train_claims = [doc.split() for doc in train_claim_text]\n",
    "\n",
    "# Initialize BM25\n",
    "print(\"Initialize BM25\")\n",
    "bm25_evidence = BM25Okapi(tokenized_evidence)\n",
    "bm25_claims = BM25Okapi(tokenized_train_claims)"
   ]
  },
  {
   "cell_type": "code",
   "execution_count": null,
   "metadata": {},
   "outputs": [
    {
     "name": "stdout",
     "output_type": "stream",
     "text": [
      "Prepare output dictionary\n",
      "Iterate over each claim\n"
     ]
    }
   ],
   "source": [
    "# Prepare output dictionary\n",
    "print(\"Prepare output dictionary\")\n",
    "output_results = {}\n",
    "\n",
    "# Iterate over each claim\n",
    "print(\"Iterate over each claim\")\n",
    "for claim_id, claim_value in dev_claim_data.items():\n",
    "    # Tokenize the current claim text\n",
    "    tokenized_claim = claim_value['claim_text'].split()\n",
    "\n",
    "    # Retrieve top-k evidence using BM25\n",
    "    evidence_scores = bm25_evidence.get_scores(tokenized_claim)\n",
    "    # Get top 1/2/3/4/5/6/7/8/9/10\n",
    "    top_k_evidence_indices = np.argsort(-evidence_scores)[:3]\n",
    "    selected_evidence_ids = [full_evidence_id[idx] for idx in top_k_evidence_indices]\n",
    "    output_results[claim_id] = {\"evidences\": selected_evidence_ids}\n",
    "\n",
    "    # Retrieve the most similar claim from the training set using BM25\n",
    "    claim_scores = bm25_claims.get_scores(tokenized_claim)\n",
    "    most_similar_claim_idx = np.argmax(claim_scores)\n",
    "    output_results[claim_id][\"claim_label\"] = train_claim_data[train_claim_id[most_similar_claim_idx]][\"claim_label\"]\n",
    "\n",
    "# Write results to file\n",
    "print(\"Write results to file\")\n",
    "with open(\"data/dev_predict.json\", \"w\") as outfile:\n",
    "    json.dump(output_results, outfile, indent=4)"
   ]
  },
  {
   "cell_type": "markdown",
   "metadata": {
    "id": "EzGuzHPE87Ya"
   },
   "source": [
    "# 3.Testing and Evaluation\n",
    "(You can add as many code blocks and text blocks as you need. However, YOU SHOULD NOT MODIFY the section title)"
   ]
  },
  {
   "cell_type": "code",
   "execution_count": null,
   "metadata": {},
   "outputs": [],
   "source": [
    "# %%cmd\n",
    "# python eval.py --predictions dev-claims-baseline.json --groundtruth dev-claims.json\n",
    "# python eval.py --predictions dev_predict.json --groundtruth dev-claims.json\n",
    "\n",
    "output = subprocess.check_output(\"python eval.py --predictions data/dev_predict.json --groundtruth data/dev-claims.json\", shell=True)\n",
    "\n",
    "# Print\n",
    "print(output.decode(\"utf-8\"))"
   ]
  },
  {
   "cell_type": "markdown",
   "metadata": {
    "id": "mefSOe8eTmGP"
   },
   "source": [
    "## Object Oriented Programming codes here\n",
    "\n",
    "*You can use multiple code snippets. Just add more if needed*"
   ]
  },
  {
   "cell_type": "code",
   "execution_count": null,
   "metadata": {},
   "outputs": [],
   "source": []
  }
 ],
 "metadata": {
  "colab": {
   "provenance": [],
   "toc_visible": true
  },
  "kernelspec": {
   "display_name": "Python 3 (ipykernel)",
   "language": "python",
   "name": "python3"
  },
  "language_info": {
   "codemirror_mode": {
    "name": "ipython",
    "version": 3
   },
   "file_extension": ".py",
   "mimetype": "text/x-python",
   "name": "python",
   "nbconvert_exporter": "python",
   "pygments_lexer": "ipython3",
   "version": "3.11.4"
  }
 },
 "nbformat": 4,
 "nbformat_minor": 4
}
